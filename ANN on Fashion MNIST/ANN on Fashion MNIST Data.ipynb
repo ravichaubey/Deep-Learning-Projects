{
  "nbformat": 4,
  "nbformat_minor": 0,
  "metadata": {
    "colab": {
      "name": "2. Fashion MNIST ANN.ipynb",
      "provenance": [],
      "collapsed_sections": []
    },
    "kernelspec": {
      "name": "python3",
      "display_name": "Python 3"
    },
    "accelerator": "GPU"
  },
  "cells": [
    {
      "cell_type": "code",
      "metadata": {
        "id": "vcsuB0t-Nq_o",
        "colab_type": "code",
        "colab": {}
      },
      "source": [
        "import warnings\n",
        "warnings.filterwarnings('ignore')\n",
        "\n",
        "import numpy as np\n",
        "import matplotlib.pyplot as plt\n",
        "import seaborn as sns\n",
        "%matplotlib inline\n",
        "import pandas as pd\n",
        "\n",
        "import tensorflow as tf\n",
        "from tensorflow import keras"
      ],
      "execution_count": 26,
      "outputs": []
    },
    {
      "cell_type": "code",
      "metadata": {
        "id": "mGEzfrXtN6jg",
        "colab_type": "code",
        "colab": {
          "base_uri": "https://localhost:8080/",
          "height": 35
        },
        "outputId": "ffd41ca5-72cf-4dad-bffb-60d95bac052d"
      },
      "source": [
        "print(tf.__version__)"
      ],
      "execution_count": 27,
      "outputs": [
        {
          "output_type": "stream",
          "text": [
            "2.2.0\n"
          ],
          "name": "stdout"
        }
      ]
    },
    {
      "cell_type": "code",
      "metadata": {
        "id": "shjkuiRwN9o3",
        "colab_type": "code",
        "colab": {
          "base_uri": "https://localhost:8080/",
          "height": 35
        },
        "outputId": "edceac1a-99d3-4990-a01d-284f5f7e5b15"
      },
      "source": [
        "print(keras.__version__)"
      ],
      "execution_count": 28,
      "outputs": [
        {
          "output_type": "stream",
          "text": [
            "2.3.0-tf\n"
          ],
          "name": "stdout"
        }
      ]
    },
    {
      "cell_type": "markdown",
      "metadata": {
        "id": "d1Z3L59tOEam",
        "colab_type": "text"
      },
      "source": [
        "# Data Acquisition"
      ]
    },
    {
      "cell_type": "code",
      "metadata": {
        "id": "O67pSBxcN_Uq",
        "colab_type": "code",
        "colab": {
          "base_uri": "https://localhost:8080/",
          "height": 90
        },
        "outputId": "93b880ec-0a8b-42c3-ea32-87b245f8f90e"
      },
      "source": [
        "fashion_mnist = keras.datasets.fashion_mnist\n",
        "\n",
        "(x_train_full,y_train_full),(x_test,y_test) = fashion_mnist.load_data()\n",
        "\n",
        "print(x_train_full.shape)\n",
        "print(y_train_full.shape)\n",
        "print(x_test_full.shape)\n",
        "print(y_test_full.shape)"
      ],
      "execution_count": 29,
      "outputs": [
        {
          "output_type": "stream",
          "text": [
            "(60000, 28, 28)\n",
            "(60000,)\n",
            "(10000, 28, 28)\n",
            "(10000,)\n"
          ],
          "name": "stdout"
        }
      ]
    },
    {
      "cell_type": "code",
      "metadata": {
        "id": "ADar5Wb7OkKD",
        "colab_type": "code",
        "colab": {
          "base_uri": "https://localhost:8080/",
          "height": 126
        },
        "outputId": "85cf0792-e2d2-4269-8809-bc75ed207fef"
      },
      "source": [
        "x_train,x_valid,y_train,y_valid = x_train_full[5000:],x_train_full[:5000],y_train_full[5000:],y_train_full[:5000]\n",
        "\n",
        "print(x_train.shape)\n",
        "print(x_valid.shape)\n",
        "print(x_test.shape)\n",
        "\n",
        "print(y_train.shape)\n",
        "print(y_valid.shape)\n",
        "print(y_test.shape)"
      ],
      "execution_count": 30,
      "outputs": [
        {
          "output_type": "stream",
          "text": [
            "(55000, 28, 28)\n",
            "(5000, 28, 28)\n",
            "(10000, 28, 28)\n",
            "(55000,)\n",
            "(5000,)\n",
            "(10000,)\n"
          ],
          "name": "stdout"
        }
      ]
    },
    {
      "cell_type": "markdown",
      "metadata": {
        "id": "b7WaUzAHPLxs",
        "colab_type": "text"
      },
      "source": [
        "# Data Preprocessing"
      ]
    },
    {
      "cell_type": "code",
      "metadata": {
        "id": "Af2ZX6NzPDv6",
        "colab_type": "code",
        "colab": {}
      },
      "source": [
        "x_train,x_valid,x_test = x_train/255.,x_valid/255.,x_test/255."
      ],
      "execution_count": 31,
      "outputs": []
    },
    {
      "cell_type": "markdown",
      "metadata": {
        "id": "P7B8YeG3Ph9B",
        "colab_type": "text"
      },
      "source": [
        "# ANN Model"
      ]
    },
    {
      "cell_type": "code",
      "metadata": {
        "id": "V-3EPDw2PaiF",
        "colab_type": "code",
        "colab": {
          "base_uri": "https://localhost:8080/",
          "height": 363
        },
        "outputId": "fe97dbe7-deea-4bc7-bc5c-0b10b41bb3b5"
      },
      "source": [
        "model = keras.Sequential([\n",
        "                          #Flatten Layer\n",
        "                          tf.keras.layers.Flatten(input_shape = (28,28)),\n",
        "                          \n",
        "                          #Fully Connected Layers\n",
        "                          tf.keras.layers.Dense(512,activation='relu'),\n",
        "                          tf.keras.layers.Dense(256,activation='relu'),\n",
        "                          tf.keras.layers.Dense(128,activation='relu'),\n",
        "\n",
        "                          #Output Layer\n",
        "                          tf.keras.layers.Dense(10,activation='softmax')\n",
        "])\n",
        "\n",
        "print(model.summary())"
      ],
      "execution_count": 32,
      "outputs": [
        {
          "output_type": "stream",
          "text": [
            "Model: \"sequential_1\"\n",
            "_________________________________________________________________\n",
            "Layer (type)                 Output Shape              Param #   \n",
            "=================================================================\n",
            "flatten_1 (Flatten)          (None, 784)               0         \n",
            "_________________________________________________________________\n",
            "dense_4 (Dense)              (None, 512)               401920    \n",
            "_________________________________________________________________\n",
            "dense_5 (Dense)              (None, 256)               131328    \n",
            "_________________________________________________________________\n",
            "dense_6 (Dense)              (None, 128)               32896     \n",
            "_________________________________________________________________\n",
            "dense_7 (Dense)              (None, 10)                1290      \n",
            "=================================================================\n",
            "Total params: 567,434\n",
            "Trainable params: 567,434\n",
            "Non-trainable params: 0\n",
            "_________________________________________________________________\n",
            "None\n"
          ],
          "name": "stdout"
        }
      ]
    },
    {
      "cell_type": "code",
      "metadata": {
        "id": "pTEgCGYDQJxH",
        "colab_type": "code",
        "colab": {}
      },
      "source": [
        "model.compile(loss = 'sparse_categorical_crossentropy',\n",
        "              optimizer = 'sgd',\n",
        "              metrics = ['accuracy'])"
      ],
      "execution_count": 33,
      "outputs": []
    },
    {
      "cell_type": "code",
      "metadata": {
        "id": "j-NDeNaRQWtA",
        "colab_type": "code",
        "colab": {
          "base_uri": "https://localhost:8080/",
          "height": 926
        },
        "outputId": "37bd326a-5fae-4649-f2dd-259027ab84f3"
      },
      "source": [
        "history = model.fit(x_train,y_train,\n",
        "                    epochs = 25,\n",
        "                    validation_data = (x_valid,y_valid))"
      ],
      "execution_count": 34,
      "outputs": [
        {
          "output_type": "stream",
          "text": [
            "Epoch 1/25\n",
            "1719/1719 [==============================] - 6s 4ms/step - loss: 0.7043 - accuracy: 0.7683 - val_loss: 0.4836 - val_accuracy: 0.8334\n",
            "Epoch 2/25\n",
            "1719/1719 [==============================] - 6s 4ms/step - loss: 0.4702 - accuracy: 0.8340 - val_loss: 0.4479 - val_accuracy: 0.8398\n",
            "Epoch 3/25\n",
            "1719/1719 [==============================] - 6s 4ms/step - loss: 0.4217 - accuracy: 0.8513 - val_loss: 0.4233 - val_accuracy: 0.8472\n",
            "Epoch 4/25\n",
            "1719/1719 [==============================] - 6s 4ms/step - loss: 0.3921 - accuracy: 0.8617 - val_loss: 0.3748 - val_accuracy: 0.8744\n",
            "Epoch 5/25\n",
            "1719/1719 [==============================] - 6s 4ms/step - loss: 0.3700 - accuracy: 0.8698 - val_loss: 0.3703 - val_accuracy: 0.8708\n",
            "Epoch 6/25\n",
            "1719/1719 [==============================] - 6s 4ms/step - loss: 0.3518 - accuracy: 0.8745 - val_loss: 0.4509 - val_accuracy: 0.8242\n",
            "Epoch 7/25\n",
            "1719/1719 [==============================] - 6s 4ms/step - loss: 0.3363 - accuracy: 0.8790 - val_loss: 0.3319 - val_accuracy: 0.8812\n",
            "Epoch 8/25\n",
            "1719/1719 [==============================] - 6s 4ms/step - loss: 0.3244 - accuracy: 0.8823 - val_loss: 0.3403 - val_accuracy: 0.8798\n",
            "Epoch 9/25\n",
            "1719/1719 [==============================] - 6s 4ms/step - loss: 0.3122 - accuracy: 0.8875 - val_loss: 0.3159 - val_accuracy: 0.8894\n",
            "Epoch 10/25\n",
            "1719/1719 [==============================] - 6s 4ms/step - loss: 0.3007 - accuracy: 0.8908 - val_loss: 0.3188 - val_accuracy: 0.8864\n",
            "Epoch 11/25\n",
            "1719/1719 [==============================] - 6s 4ms/step - loss: 0.2914 - accuracy: 0.8943 - val_loss: 0.3073 - val_accuracy: 0.8928\n",
            "Epoch 12/25\n",
            "1719/1719 [==============================] - 6s 4ms/step - loss: 0.2830 - accuracy: 0.8976 - val_loss: 0.3255 - val_accuracy: 0.8758\n",
            "Epoch 13/25\n",
            "1719/1719 [==============================] - 6s 4ms/step - loss: 0.2757 - accuracy: 0.8995 - val_loss: 0.3105 - val_accuracy: 0.8882\n",
            "Epoch 14/25\n",
            "1719/1719 [==============================] - 6s 4ms/step - loss: 0.2676 - accuracy: 0.9022 - val_loss: 0.3001 - val_accuracy: 0.8890\n",
            "Epoch 15/25\n",
            "1719/1719 [==============================] - 6s 4ms/step - loss: 0.2595 - accuracy: 0.9054 - val_loss: 0.3354 - val_accuracy: 0.8758\n",
            "Epoch 16/25\n",
            "1719/1719 [==============================] - 6s 4ms/step - loss: 0.2528 - accuracy: 0.9079 - val_loss: 0.3116 - val_accuracy: 0.8910\n",
            "Epoch 17/25\n",
            "1719/1719 [==============================] - 6s 4ms/step - loss: 0.2472 - accuracy: 0.9098 - val_loss: 0.2967 - val_accuracy: 0.8902\n",
            "Epoch 18/25\n",
            "1719/1719 [==============================] - 6s 4ms/step - loss: 0.2400 - accuracy: 0.9131 - val_loss: 0.2950 - val_accuracy: 0.8892\n",
            "Epoch 19/25\n",
            "1719/1719 [==============================] - 6s 4ms/step - loss: 0.2337 - accuracy: 0.9143 - val_loss: 0.2999 - val_accuracy: 0.8878\n",
            "Epoch 20/25\n",
            "1719/1719 [==============================] - 6s 4ms/step - loss: 0.2280 - accuracy: 0.9171 - val_loss: 0.3146 - val_accuracy: 0.8880\n",
            "Epoch 21/25\n",
            "1719/1719 [==============================] - 6s 4ms/step - loss: 0.2223 - accuracy: 0.9199 - val_loss: 0.2950 - val_accuracy: 0.8924\n",
            "Epoch 22/25\n",
            "1719/1719 [==============================] - 6s 4ms/step - loss: 0.2168 - accuracy: 0.9210 - val_loss: 0.3100 - val_accuracy: 0.8884\n",
            "Epoch 23/25\n",
            "1719/1719 [==============================] - 6s 4ms/step - loss: 0.2117 - accuracy: 0.9231 - val_loss: 0.3095 - val_accuracy: 0.8904\n",
            "Epoch 24/25\n",
            "1719/1719 [==============================] - 6s 4ms/step - loss: 0.2066 - accuracy: 0.9265 - val_loss: 0.3188 - val_accuracy: 0.8888\n",
            "Epoch 25/25\n",
            "1719/1719 [==============================] - 6s 4ms/step - loss: 0.2012 - accuracy: 0.9269 - val_loss: 0.3067 - val_accuracy: 0.8910\n"
          ],
          "name": "stdout"
        }
      ]
    },
    {
      "cell_type": "code",
      "metadata": {
        "id": "C4qaBzM9QgKO",
        "colab_type": "code",
        "colab": {
          "base_uri": "https://localhost:8080/",
          "height": 35
        },
        "outputId": "ce3c71b8-d38a-4769-b080-944c09958ea0"
      },
      "source": [
        "print(history.params)"
      ],
      "execution_count": 39,
      "outputs": [
        {
          "output_type": "stream",
          "text": [
            "{'verbose': 1, 'epochs': 25, 'steps': 1719}\n"
          ],
          "name": "stdout"
        }
      ]
    },
    {
      "cell_type": "code",
      "metadata": {
        "id": "v6ZxnGhISo-n",
        "colab_type": "code",
        "colab": {
          "base_uri": "https://localhost:8080/",
          "height": 35
        },
        "outputId": "95abcf39-a80e-43d3-c8f6-bec9c1606c4a"
      },
      "source": [
        "print(history.epoch)"
      ],
      "execution_count": 40,
      "outputs": [
        {
          "output_type": "stream",
          "text": [
            "[0, 1, 2, 3, 4, 5, 6, 7, 8, 9, 10, 11, 12, 13, 14, 15, 16, 17, 18, 19, 20, 21, 22, 23, 24]\n"
          ],
          "name": "stdout"
        }
      ]
    },
    {
      "cell_type": "code",
      "metadata": {
        "id": "uP2XLN68Ss1D",
        "colab_type": "code",
        "colab": {
          "base_uri": "https://localhost:8080/",
          "height": 35
        },
        "outputId": "d95ae787-3df7-4943-c0c5-fc123f8c5dad"
      },
      "source": [
        "print(history.history.keys())"
      ],
      "execution_count": 41,
      "outputs": [
        {
          "output_type": "stream",
          "text": [
            "dict_keys(['loss', 'accuracy', 'val_loss', 'val_accuracy'])\n"
          ],
          "name": "stdout"
        }
      ]
    },
    {
      "cell_type": "code",
      "metadata": {
        "id": "H4Fg4dGfS0Ur",
        "colab_type": "code",
        "colab": {
          "base_uri": "https://localhost:8080/",
          "height": 595
        },
        "outputId": "f9ee43a2-f75c-4c73-cd8f-194ad77be48a"
      },
      "source": [
        "plt.style.use('seaborn-darkgrid')\n",
        "fig = plt.figure(figsize = (8,5),dpi = 100)\n",
        "ax = fig.add_axes([1,1,1,1])\n",
        "pd.DataFrame(history.history).plot(ax =ax)\n",
        "ax.set(xlabel = 'Metrics and Loss',ylabel = 'Measure',title = 'Learning Curve')\n",
        "ax.set_ylim(0,1);"
      ],
      "execution_count": 42,
      "outputs": [
        {
          "output_type": "display_data",
          "data": {
            "image/png": "[encoded data removed]",
            "text/plain": [
              "<Figure size 800x500 with 1 Axes>"
            ]
          },
          "metadata": {
            "tags": []
          }
        }
      ]
    },
    {
      "cell_type": "code",
      "metadata": {
        "id": "k0EJjtGPVXgr",
        "colab_type": "code",
        "colab": {
          "base_uri": "https://localhost:8080/",
          "height": 54
        },
        "outputId": "f68109ff-e944-4386-f27c-78d27aa1998e"
      },
      "source": [
        "model.evaluate(x_test,y_test)"
      ],
      "execution_count": 43,
      "outputs": [
        {
          "output_type": "stream",
          "text": [
            "313/313 [==============================] - 1s 3ms/step - loss: 0.3449 - accuracy: 0.8778\n"
          ],
          "name": "stdout"
        },
        {
          "output_type": "execute_result",
          "data": {
            "text/plain": [
              "[0.3449036478996277, 0.8777999877929688]"
            ]
          },
          "metadata": {
            "tags": []
          },
          "execution_count": 43
        }
      ]
    }
  ]
}